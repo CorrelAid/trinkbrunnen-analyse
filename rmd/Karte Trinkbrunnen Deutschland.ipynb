{
 "cells": [
  {
   "cell_type": "markdown",
   "id": "9ff2461c-7f90-43ba-874f-dde174382543",
   "metadata": {},
   "source": [
    "# Karte Trinkbrunnen Deutschland\n",
    "\n",
    "* * *"
   ]
  },
  {
   "cell_type": "markdown",
   "id": "ea4a4bc9-4ce7-4426-9955-db545d958e86",
   "metadata": {},
   "source": [
    "# Imports"
   ]
  },
  {
   "cell_type": "code",
   "execution_count": 1,
   "id": "a7a72c9d-502f-4cb8-9a9e-e4315998f4ef",
   "metadata": {},
   "outputs": [],
   "source": [
    "import overpy\n",
    "import folium\n",
    "import numpy as np\n",
    "import pandas as pd\n",
    "import matplotlib.pyplot as plt"
   ]
  },
  {
   "cell_type": "markdown",
   "id": "255c9da9-f6be-4a23-b443-051fd41845e9",
   "metadata": {},
   "source": [
    "# Config"
   ]
  },
  {
   "cell_type": "code",
   "execution_count": 2,
   "id": "13bd3e0f-4558-41b0-87a4-e25daed1df0c",
   "metadata": {},
   "outputs": [],
   "source": [
    "amenity = 'drinking_water'"
   ]
  },
  {
   "cell_type": "code",
   "execution_count": 3,
   "id": "7d84ba13-d0d6-4a35-9c48-608ff974b4c2",
   "metadata": {},
   "outputs": [],
   "source": [
    "api = overpy.Overpass()"
   ]
  },
  {
   "cell_type": "markdown",
   "id": "d85ed6c7-d677-417d-b610-538d4e518b1e",
   "metadata": {},
   "source": [
    "# Data Germany"
   ]
  },
  {
   "cell_type": "code",
   "execution_count": 4,
   "id": "4d0bfd79-e57a-4b38-bf13-bbfe20765128",
   "metadata": {},
   "outputs": [],
   "source": [
    "area = 'Deutschland'"
   ]
  },
  {
   "cell_type": "code",
   "execution_count": 5,
   "id": "54c0384f-2c7d-44bf-894d-a75ee4f1f7b8",
   "metadata": {},
   "outputs": [
    {
     "name": "stdout",
     "output_type": "stream",
     "text": [
      "CPU times: user 219 ms, sys: 93.8 ms, total: 312 ms\n",
      "Wall time: 31.4 s\n"
     ]
    }
   ],
   "source": [
    "%%time \n",
    "r_ger = api.query(f\"\"\"\n",
    "                  area[name=\"{area}\"];\n",
    "                  node[\"amenity\"=\"{amenity}\"](area);\n",
    "                  out meta;\n",
    "                  \"\"\")"
   ]
  },
  {
   "cell_type": "markdown",
   "id": "718bbdad-9019-4a05-946c-1223583a32d9",
   "metadata": {},
   "source": [
    "# Map"
   ]
  },
  {
   "cell_type": "code",
   "execution_count": 7,
   "id": "147e2368-0b3d-4abb-9fe4-74da4dd85358",
   "metadata": {},
   "outputs": [],
   "source": [
    "X = np.array([(float(node.lon), float(node.lat)) for node in r_ger.nodes])\n",
    "coord_df = pd.DataFrame({'lat': [lat[0] for lat in X],\n",
    "                         'lon': [lon[1] for lon in X],\n",
    "                         'label': [f\"\"\"{d.tags.get('description')}, \n",
    "                                   access: {d.tags.get('access')}, \n",
    "                                   bottle: {d.tags.get('bottle')}, \n",
    "                                   wheelchair: {d.tags.get('wheelchair')}\"\"\" \n",
    "                                   for d in r_ger.nodes],\n",
    "                        'access': [d.tags.get('access') for d in r_ger.nodes],\n",
    "                        'bottle': [d.tags.get('bottle') for d in r_ger.nodes],\n",
    "                        'wheelchair': [d.tags.get('wheelchair') for d in r_ger.nodes]})"
   ]
  },
  {
   "cell_type": "markdown",
   "id": "f08d3eab-735f-4ead-96c1-03c47b901e35",
   "metadata": {},
   "source": [
    "Determine quality of nodes"
   ]
  },
  {
   "cell_type": "code",
   "execution_count": 8,
   "id": "39093a3f-0b1e-4b75-8439-0463b443120b",
   "metadata": {},
   "outputs": [],
   "source": [
    "coord_df.access = np.where(coord_df.access.isna(), 0, 1)\n",
    "coord_df.bottle = np.where(coord_df.bottle.isna(), 0, 1)\n",
    "coord_df.wheelchair = np.where(coord_df.wheelchair.isna(), 0, 1)\n",
    "coord_df['quality'] = (coord_df.access + coord_df.bottle + coord_df.wheelchair) / 3\n",
    "\n",
    "conds = [coord_df.quality == 1, coord_df.quality.between(0.3, 0.7), coord_df.quality < 0.3]\n",
    "choose = ['green', 'yellow', 'red']\n",
    "\n",
    "coord_df['quality_c'] = np.select(conds, choose)"
   ]
  },
  {
   "cell_type": "code",
   "execution_count": null,
   "id": "265c755c-cc8e-48d5-b9b6-cdfb033d84ff",
   "metadata": {},
   "outputs": [],
   "source": [
    "m = folium.Map(location=[52, 13], tiles='cartodbpositron', zoom_start=6)\n",
    "for i in range(0,len(coord_df)):\n",
    "    folium.Circle(\n",
    "    location=[coord_df.iloc[i]['lon'], coord_df.iloc[i]['lat']],\n",
    "    popup=coord_df.iloc[i]['label'],\n",
    "    color=coord_df.iloc[i]['quality_c'],\n",
    "    fill=True,\n",
    "    opacity= 0.89,\n",
    "    stroke= True,\n",
    "    weight= 1\n",
    "    ).add_to(m)\n",
    "m.save(f'{area}: {amenity}.html')\n",
    "\n",
    "m"
   ]
  }
 ],
 "metadata": {
  "kernelspec": {
   "display_name": "Python 3 (ipykernel)",
   "language": "python",
   "name": "python3"
  },
  "language_info": {
   "codemirror_mode": {
    "name": "ipython",
    "version": 3
   },
   "file_extension": ".py",
   "mimetype": "text/x-python",
   "name": "python",
   "nbconvert_exporter": "python",
   "pygments_lexer": "ipython3",
   "version": "3.9.12"
  }
 },
 "nbformat": 4,
 "nbformat_minor": 5
}
